{
 "cells": [
  {
   "cell_type": "markdown",
   "id": "a7e29a94",
   "metadata": {},
   "source": [
    "# Notebook con los análisis utilizando los datos limpios.\n",
    "\n"
   ]
  },
  {
   "cell_type": "code",
   "execution_count": 20,
   "id": "494289fd",
   "metadata": {},
   "outputs": [],
   "source": [
    "import pandas as pd\n",
    "import numpy as np\n",
    "import statsmodels.api as sm\n",
    "import scipy.stats as st\n",
    "import matplotlib.pyplot as plt\n",
    "import seaborn as sn\n",
    "from sklearn.metrics import confusion_matrix\n",
    "import matplotlib.mlab as mlab\n",
    "%matplotlib inline\n",
    "\n",
    "\n"
   ]
  },
  {
   "cell_type": "code",
   "execution_count": 21,
   "id": "b1485f7a",
   "metadata": {},
   "outputs": [
    {
     "data": {
      "text/html": [
       "<div>\n",
       "<style scoped>\n",
       "    .dataframe tbody tr th:only-of-type {\n",
       "        vertical-align: middle;\n",
       "    }\n",
       "\n",
       "    .dataframe tbody tr th {\n",
       "        vertical-align: top;\n",
       "    }\n",
       "\n",
       "    .dataframe thead th {\n",
       "        text-align: right;\n",
       "    }\n",
       "</style>\n",
       "<table border=\"1\" class=\"dataframe\">\n",
       "  <thead>\n",
       "    <tr style=\"text-align: right;\">\n",
       "      <th></th>\n",
       "      <th>Unnamed: 0</th>\n",
       "      <th>Sex_male</th>\n",
       "      <th>age</th>\n",
       "      <th>currentSmoker</th>\n",
       "      <th>cigsPerDay</th>\n",
       "      <th>BPMeds</th>\n",
       "      <th>prevalentStroke</th>\n",
       "      <th>prevalentHyp</th>\n",
       "      <th>diabetes</th>\n",
       "      <th>totChol</th>\n",
       "      <th>sysBP</th>\n",
       "      <th>diaBP</th>\n",
       "      <th>BMI</th>\n",
       "      <th>heartRate</th>\n",
       "      <th>glucose</th>\n",
       "      <th>TenYearCHD</th>\n",
       "    </tr>\n",
       "  </thead>\n",
       "  <tbody>\n",
       "    <tr>\n",
       "      <th>0</th>\n",
       "      <td>0</td>\n",
       "      <td>1</td>\n",
       "      <td>39</td>\n",
       "      <td>0</td>\n",
       "      <td>0.0</td>\n",
       "      <td>0.0</td>\n",
       "      <td>0</td>\n",
       "      <td>0</td>\n",
       "      <td>0</td>\n",
       "      <td>195.0</td>\n",
       "      <td>106.0</td>\n",
       "      <td>70.0</td>\n",
       "      <td>26.97</td>\n",
       "      <td>80.0</td>\n",
       "      <td>77.0</td>\n",
       "      <td>0</td>\n",
       "    </tr>\n",
       "    <tr>\n",
       "      <th>1</th>\n",
       "      <td>1</td>\n",
       "      <td>0</td>\n",
       "      <td>46</td>\n",
       "      <td>0</td>\n",
       "      <td>0.0</td>\n",
       "      <td>0.0</td>\n",
       "      <td>0</td>\n",
       "      <td>0</td>\n",
       "      <td>0</td>\n",
       "      <td>250.0</td>\n",
       "      <td>121.0</td>\n",
       "      <td>81.0</td>\n",
       "      <td>28.73</td>\n",
       "      <td>95.0</td>\n",
       "      <td>76.0</td>\n",
       "      <td>0</td>\n",
       "    </tr>\n",
       "    <tr>\n",
       "      <th>2</th>\n",
       "      <td>2</td>\n",
       "      <td>1</td>\n",
       "      <td>48</td>\n",
       "      <td>1</td>\n",
       "      <td>20.0</td>\n",
       "      <td>0.0</td>\n",
       "      <td>0</td>\n",
       "      <td>0</td>\n",
       "      <td>0</td>\n",
       "      <td>245.0</td>\n",
       "      <td>127.5</td>\n",
       "      <td>80.0</td>\n",
       "      <td>25.34</td>\n",
       "      <td>75.0</td>\n",
       "      <td>70.0</td>\n",
       "      <td>0</td>\n",
       "    </tr>\n",
       "    <tr>\n",
       "      <th>3</th>\n",
       "      <td>3</td>\n",
       "      <td>0</td>\n",
       "      <td>61</td>\n",
       "      <td>1</td>\n",
       "      <td>30.0</td>\n",
       "      <td>0.0</td>\n",
       "      <td>0</td>\n",
       "      <td>1</td>\n",
       "      <td>0</td>\n",
       "      <td>225.0</td>\n",
       "      <td>150.0</td>\n",
       "      <td>95.0</td>\n",
       "      <td>28.58</td>\n",
       "      <td>65.0</td>\n",
       "      <td>103.0</td>\n",
       "      <td>1</td>\n",
       "    </tr>\n",
       "    <tr>\n",
       "      <th>4</th>\n",
       "      <td>4</td>\n",
       "      <td>0</td>\n",
       "      <td>46</td>\n",
       "      <td>1</td>\n",
       "      <td>23.0</td>\n",
       "      <td>0.0</td>\n",
       "      <td>0</td>\n",
       "      <td>0</td>\n",
       "      <td>0</td>\n",
       "      <td>285.0</td>\n",
       "      <td>130.0</td>\n",
       "      <td>84.0</td>\n",
       "      <td>23.10</td>\n",
       "      <td>85.0</td>\n",
       "      <td>85.0</td>\n",
       "      <td>0</td>\n",
       "    </tr>\n",
       "  </tbody>\n",
       "</table>\n",
       "</div>"
      ],
      "text/plain": [
       "   Unnamed: 0  Sex_male  age  currentSmoker  cigsPerDay  BPMeds  \\\n",
       "0           0         1   39              0         0.0     0.0   \n",
       "1           1         0   46              0         0.0     0.0   \n",
       "2           2         1   48              1        20.0     0.0   \n",
       "3           3         0   61              1        30.0     0.0   \n",
       "4           4         0   46              1        23.0     0.0   \n",
       "\n",
       "   prevalentStroke  prevalentHyp  diabetes  totChol  sysBP  diaBP    BMI  \\\n",
       "0                0             0         0    195.0  106.0   70.0  26.97   \n",
       "1                0             0         0    250.0  121.0   81.0  28.73   \n",
       "2                0             0         0    245.0  127.5   80.0  25.34   \n",
       "3                0             1         0    225.0  150.0   95.0  28.58   \n",
       "4                0             0         0    285.0  130.0   84.0  23.10   \n",
       "\n",
       "   heartRate  glucose  TenYearCHD  \n",
       "0       80.0     77.0           0  \n",
       "1       95.0     76.0           0  \n",
       "2       75.0     70.0           0  \n",
       "3       65.0    103.0           1  \n",
       "4       85.0     85.0           0  "
      ]
     },
     "execution_count": 21,
     "metadata": {},
     "output_type": "execute_result"
    }
   ],
   "source": [
    "heart_df=pd.read_csv(\"./datos_limpiados.csv\")\n",
    "heart_df.head()"
   ]
  },
  {
   "cell_type": "code",
   "execution_count": 22,
   "id": "b25c6329",
   "metadata": {},
   "outputs": [
    {
     "name": "stdout",
     "output_type": "stream",
     "text": [
      "<class 'pandas.core.frame.DataFrame'>\n",
      "RangeIndex: 3749 entries, 0 to 3748\n",
      "Data columns (total 16 columns):\n",
      " #   Column           Non-Null Count  Dtype  \n",
      "---  ------           --------------  -----  \n",
      " 0   Unnamed: 0       3749 non-null   int64  \n",
      " 1   Sex_male         3749 non-null   int64  \n",
      " 2   age              3749 non-null   int64  \n",
      " 3   currentSmoker    3749 non-null   int64  \n",
      " 4   cigsPerDay       3749 non-null   float64\n",
      " 5   BPMeds           3749 non-null   float64\n",
      " 6   prevalentStroke  3749 non-null   int64  \n",
      " 7   prevalentHyp     3749 non-null   int64  \n",
      " 8   diabetes         3749 non-null   int64  \n",
      " 9   totChol          3749 non-null   float64\n",
      " 10  sysBP            3749 non-null   float64\n",
      " 11  diaBP            3749 non-null   float64\n",
      " 12  BMI              3749 non-null   float64\n",
      " 13  heartRate        3749 non-null   float64\n",
      " 14  glucose          3749 non-null   float64\n",
      " 15  TenYearCHD       3749 non-null   int64  \n",
      "dtypes: float64(8), int64(8)\n",
      "memory usage: 468.8 KB\n"
     ]
    }
   ],
   "source": [
    "heart_df.info()"
   ]
  },
  {
   "cell_type": "markdown",
   "id": "6d5765fc",
   "metadata": {},
   "source": [
    "#  Análisis exploratorio"
   ]
  },
  {
   "cell_type": "code",
   "execution_count": 23,
   "id": "e80108cd",
   "metadata": {},
   "outputs": [
    {
     "data": {
      "image/png": "[encoded data removed]",
      "text/plain": [
       "<Figure size 1440x1440 with 16 Axes>"
      ]
     },
     "metadata": {
      "needs_background": "light"
     },
     "output_type": "display_data"
    }
   ],
   "source": [
    "def draw_histograms(dataframe, features, rows, cols):\n",
    "    fig=plt.figure(figsize=(20,20))\n",
    "    for i, feature in enumerate(features):\n",
    "        ax=fig.add_subplot(rows,cols,i+1)\n",
    "        dataframe[feature].hist(bins=20,ax=ax,facecolor='midnightblue')\n",
    "        ax.set_title(\"Distribución \"+feature,color='DarkRed')\n",
    "        \n",
    "    fig.tight_layout()  \n",
    "    plt.show()\n",
    "draw_histograms(heart_df,heart_df.columns,6,3)"
   ]
  },
  {
   "cell_type": "code",
   "execution_count": 24,
   "id": "7053bb47",
   "metadata": {},
   "outputs": [
    {
     "data": {
      "text/plain": [
       "0    3177\n",
       "1     572\n",
       "Name: TenYearCHD, dtype: int64"
      ]
     },
     "execution_count": 24,
     "metadata": {},
     "output_type": "execute_result"
    }
   ],
   "source": [
    "heart_df.TenYearCHD.value_counts()"
   ]
  },
  {
   "cell_type": "code",
   "execution_count": 25,
   "id": "e3f96db4",
   "metadata": {},
   "outputs": [
    {
     "data": {
      "text/plain": [
       "<AxesSubplot:xlabel='TenYearCHD', ylabel='count'>"
      ]
     },
     "execution_count": 25,
     "metadata": {},
     "output_type": "execute_result"
    },
    {
     "data": {
      "image/png": "[encoded data removed]",
      "text/plain": [
       "<Figure size 432x288 with 1 Axes>"
      ]
     },
     "metadata": {
      "needs_background": "light"
     },
     "output_type": "display_data"
    }
   ],
   "source": [
    "sn.countplot(x='TenYearCHD',data=heart_df)"
   ]
  },
  {
   "cell_type": "markdown",
   "id": "c4b58d17",
   "metadata": {},
   "source": [
    "Hay 3177 pacientes sin enfermedad cardiaca y 572 pacientes con riesgo de padecer una enfermedad al corazón.\n"
   ]
  },
  {
   "cell_type": "code",
   "execution_count": null,
   "id": "b94722b9",
   "metadata": {
    "scrolled": true
   },
   "outputs": [],
   "source": [
    "sn.pairplot(data=heart_df)"
   ]
  },
  {
   "cell_type": "code",
   "execution_count": null,
   "id": "d4c9b8ca",
   "metadata": {},
   "outputs": [],
   "source": [
    "heart_df.describe()"
   ]
  },
  {
   "cell_type": "markdown",
   "id": "b3d0c61e",
   "metadata": {},
   "source": [
    "# Regresión Logística "
   ]
  },
  {
   "cell_type": "markdown",
   "id": "8720c346",
   "metadata": {},
   "source": [
    "La regresión logística es un tipo de análisis de regresión que se utilizaremos para predecir el resultado de la variable objetivo que en nuestro caso es TenYearCHD."
   ]
  },
  {
   "cell_type": "code",
   "execution_count": 28,
   "id": "fd5ee0e1",
   "metadata": {},
   "outputs": [
    {
     "data": {
      "text/html": [
       "<div>\n",
       "<style scoped>\n",
       "    .dataframe tbody tr th:only-of-type {\n",
       "        vertical-align: middle;\n",
       "    }\n",
       "\n",
       "    .dataframe tbody tr th {\n",
       "        vertical-align: top;\n",
       "    }\n",
       "\n",
       "    .dataframe thead th {\n",
       "        text-align: right;\n",
       "    }\n",
       "</style>\n",
       "<table border=\"1\" class=\"dataframe\">\n",
       "  <thead>\n",
       "    <tr style=\"text-align: right;\">\n",
       "      <th></th>\n",
       "      <th>const</th>\n",
       "      <th>Unnamed: 0</th>\n",
       "      <th>Sex_male</th>\n",
       "      <th>age</th>\n",
       "      <th>currentSmoker</th>\n",
       "      <th>cigsPerDay</th>\n",
       "      <th>BPMeds</th>\n",
       "      <th>prevalentStroke</th>\n",
       "      <th>prevalentHyp</th>\n",
       "      <th>diabetes</th>\n",
       "      <th>totChol</th>\n",
       "      <th>sysBP</th>\n",
       "      <th>diaBP</th>\n",
       "      <th>BMI</th>\n",
       "      <th>heartRate</th>\n",
       "      <th>glucose</th>\n",
       "      <th>TenYearCHD</th>\n",
       "    </tr>\n",
       "  </thead>\n",
       "  <tbody>\n",
       "    <tr>\n",
       "      <th>0</th>\n",
       "      <td>1.0</td>\n",
       "      <td>0</td>\n",
       "      <td>1</td>\n",
       "      <td>39</td>\n",
       "      <td>0</td>\n",
       "      <td>0.0</td>\n",
       "      <td>0.0</td>\n",
       "      <td>0</td>\n",
       "      <td>0</td>\n",
       "      <td>0</td>\n",
       "      <td>195.0</td>\n",
       "      <td>106.0</td>\n",
       "      <td>70.0</td>\n",
       "      <td>26.97</td>\n",
       "      <td>80.0</td>\n",
       "      <td>77.0</td>\n",
       "      <td>0</td>\n",
       "    </tr>\n",
       "    <tr>\n",
       "      <th>1</th>\n",
       "      <td>1.0</td>\n",
       "      <td>1</td>\n",
       "      <td>0</td>\n",
       "      <td>46</td>\n",
       "      <td>0</td>\n",
       "      <td>0.0</td>\n",
       "      <td>0.0</td>\n",
       "      <td>0</td>\n",
       "      <td>0</td>\n",
       "      <td>0</td>\n",
       "      <td>250.0</td>\n",
       "      <td>121.0</td>\n",
       "      <td>81.0</td>\n",
       "      <td>28.73</td>\n",
       "      <td>95.0</td>\n",
       "      <td>76.0</td>\n",
       "      <td>0</td>\n",
       "    </tr>\n",
       "    <tr>\n",
       "      <th>2</th>\n",
       "      <td>1.0</td>\n",
       "      <td>2</td>\n",
       "      <td>1</td>\n",
       "      <td>48</td>\n",
       "      <td>1</td>\n",
       "      <td>20.0</td>\n",
       "      <td>0.0</td>\n",
       "      <td>0</td>\n",
       "      <td>0</td>\n",
       "      <td>0</td>\n",
       "      <td>245.0</td>\n",
       "      <td>127.5</td>\n",
       "      <td>80.0</td>\n",
       "      <td>25.34</td>\n",
       "      <td>75.0</td>\n",
       "      <td>70.0</td>\n",
       "      <td>0</td>\n",
       "    </tr>\n",
       "    <tr>\n",
       "      <th>3</th>\n",
       "      <td>1.0</td>\n",
       "      <td>3</td>\n",
       "      <td>0</td>\n",
       "      <td>61</td>\n",
       "      <td>1</td>\n",
       "      <td>30.0</td>\n",
       "      <td>0.0</td>\n",
       "      <td>0</td>\n",
       "      <td>1</td>\n",
       "      <td>0</td>\n",
       "      <td>225.0</td>\n",
       "      <td>150.0</td>\n",
       "      <td>95.0</td>\n",
       "      <td>28.58</td>\n",
       "      <td>65.0</td>\n",
       "      <td>103.0</td>\n",
       "      <td>1</td>\n",
       "    </tr>\n",
       "    <tr>\n",
       "      <th>4</th>\n",
       "      <td>1.0</td>\n",
       "      <td>4</td>\n",
       "      <td>0</td>\n",
       "      <td>46</td>\n",
       "      <td>1</td>\n",
       "      <td>23.0</td>\n",
       "      <td>0.0</td>\n",
       "      <td>0</td>\n",
       "      <td>0</td>\n",
       "      <td>0</td>\n",
       "      <td>285.0</td>\n",
       "      <td>130.0</td>\n",
       "      <td>84.0</td>\n",
       "      <td>23.10</td>\n",
       "      <td>85.0</td>\n",
       "      <td>85.0</td>\n",
       "      <td>0</td>\n",
       "    </tr>\n",
       "  </tbody>\n",
       "</table>\n",
       "</div>"
      ],
      "text/plain": [
       "   const  Unnamed: 0  Sex_male  age  currentSmoker  cigsPerDay  BPMeds  \\\n",
       "0    1.0           0         1   39              0         0.0     0.0   \n",
       "1    1.0           1         0   46              0         0.0     0.0   \n",
       "2    1.0           2         1   48              1        20.0     0.0   \n",
       "3    1.0           3         0   61              1        30.0     0.0   \n",
       "4    1.0           4         0   46              1        23.0     0.0   \n",
       "\n",
       "   prevalentStroke  prevalentHyp  diabetes  totChol  sysBP  diaBP    BMI  \\\n",
       "0                0             0         0    195.0  106.0   70.0  26.97   \n",
       "1                0             0         0    250.0  121.0   81.0  28.73   \n",
       "2                0             0         0    245.0  127.5   80.0  25.34   \n",
       "3                0             1         0    225.0  150.0   95.0  28.58   \n",
       "4                0             0         0    285.0  130.0   84.0  23.10   \n",
       "\n",
       "   heartRate  glucose  TenYearCHD  \n",
       "0       80.0     77.0           0  \n",
       "1       95.0     76.0           0  \n",
       "2       75.0     70.0           0  \n",
       "3       65.0    103.0           1  \n",
       "4       85.0     85.0           0  "
      ]
     },
     "execution_count": 28,
     "metadata": {},
     "output_type": "execute_result"
    }
   ],
   "source": [
    "from statsmodels.tools import add_constant as add_constant\n",
    "heart_df_constant = add_constant(heart_df)\n",
    "heart_df_constant.head()\n"
   ]
  },
  {
   "cell_type": "code",
   "execution_count": 29,
   "id": "271b9b28",
   "metadata": {},
   "outputs": [
    {
     "name": "stdout",
     "output_type": "stream",
     "text": [
      "Optimization terminated successfully.\n",
      "         Current function value: 0.377106\n",
      "         Iterations 7\n"
     ]
    },
    {
     "data": {
      "text/html": [
       "<table class=\"simpletable\">\n",
       "<caption>Logit Regression Results</caption>\n",
       "<tr>\n",
       "  <th>Dep. Variable:</th>      <td>TenYearCHD</td>    <th>  No. Observations:  </th>  <td>  3749</td>  \n",
       "</tr>\n",
       "<tr>\n",
       "  <th>Model:</th>                 <td>Logit</td>      <th>  Df Residuals:      </th>  <td>  3733</td>  \n",
       "</tr>\n",
       "<tr>\n",
       "  <th>Method:</th>                 <td>MLE</td>       <th>  Df Model:          </th>  <td>    15</td>  \n",
       "</tr>\n",
       "<tr>\n",
       "  <th>Date:</th>            <td>Sat, 08 Oct 2022</td> <th>  Pseudo R-squ.:     </th>  <td>0.1172</td>  \n",
       "</tr>\n",
       "<tr>\n",
       "  <th>Time:</th>                <td>21:51:48</td>     <th>  Log-Likelihood:    </th> <td> -1413.8</td> \n",
       "</tr>\n",
       "<tr>\n",
       "  <th>converged:</th>             <td>True</td>       <th>  LL-Null:           </th> <td> -1601.4</td> \n",
       "</tr>\n",
       "<tr>\n",
       "  <th>Covariance Type:</th>     <td>nonrobust</td>    <th>  LLR p-value:       </th> <td>1.104e-70</td>\n",
       "</tr>\n",
       "</table>\n",
       "<table class=\"simpletable\">\n",
       "<tr>\n",
       "         <td></td>            <th>coef</th>     <th>std err</th>      <th>z</th>      <th>P>|z|</th>  <th>[0.025</th>    <th>0.975]</th>  \n",
       "</tr>\n",
       "<tr>\n",
       "  <th>const</th>           <td>   -8.5779</td> <td>    0.692</td> <td>  -12.398</td> <td> 0.000</td> <td>   -9.934</td> <td>   -7.222</td>\n",
       "</tr>\n",
       "<tr>\n",
       "  <th>Unnamed: 0</th>      <td>-3.256e-05</td> <td> 3.91e-05</td> <td>   -0.833</td> <td> 0.405</td> <td>   -0.000</td> <td> 4.41e-05</td>\n",
       "</tr>\n",
       "<tr>\n",
       "  <th>Sex_male</th>        <td>    0.5776</td> <td>    0.108</td> <td>    5.371</td> <td> 0.000</td> <td>    0.367</td> <td>    0.788</td>\n",
       "</tr>\n",
       "<tr>\n",
       "  <th>age</th>             <td>    0.0640</td> <td>    0.007</td> <td>    9.788</td> <td> 0.000</td> <td>    0.051</td> <td>    0.077</td>\n",
       "</tr>\n",
       "<tr>\n",
       "  <th>currentSmoker</th>   <td>    0.0726</td> <td>    0.155</td> <td>    0.469</td> <td> 0.639</td> <td>   -0.230</td> <td>    0.376</td>\n",
       "</tr>\n",
       "<tr>\n",
       "  <th>cigsPerDay</th>      <td>    0.0184</td> <td>    0.006</td> <td>    3.001</td> <td> 0.003</td> <td>    0.006</td> <td>    0.030</td>\n",
       "</tr>\n",
       "<tr>\n",
       "  <th>BPMeds</th>          <td>    0.1524</td> <td>    0.232</td> <td>    0.656</td> <td> 0.512</td> <td>   -0.303</td> <td>    0.608</td>\n",
       "</tr>\n",
       "<tr>\n",
       "  <th>prevalentStroke</th> <td>    0.7340</td> <td>    0.490</td> <td>    1.499</td> <td> 0.134</td> <td>   -0.226</td> <td>    1.694</td>\n",
       "</tr>\n",
       "<tr>\n",
       "  <th>prevalentHyp</th>    <td>    0.2183</td> <td>    0.136</td> <td>    1.600</td> <td> 0.110</td> <td>   -0.049</td> <td>    0.486</td>\n",
       "</tr>\n",
       "<tr>\n",
       "  <th>diabetes</th>        <td>    0.0116</td> <td>    0.312</td> <td>    0.037</td> <td> 0.970</td> <td>   -0.600</td> <td>    0.624</td>\n",
       "</tr>\n",
       "<tr>\n",
       "  <th>totChol</th>         <td>    0.0022</td> <td>    0.001</td> <td>    2.068</td> <td> 0.039</td> <td>    0.000</td> <td>    0.004</td>\n",
       "</tr>\n",
       "<tr>\n",
       "  <th>sysBP</th>           <td>    0.0153</td> <td>    0.004</td> <td>    4.063</td> <td> 0.000</td> <td>    0.008</td> <td>    0.023</td>\n",
       "</tr>\n",
       "<tr>\n",
       "  <th>diaBP</th>           <td>   -0.0039</td> <td>    0.006</td> <td>   -0.618</td> <td> 0.536</td> <td>   -0.016</td> <td>    0.009</td>\n",
       "</tr>\n",
       "<tr>\n",
       "  <th>BMI</th>             <td>    0.0102</td> <td>    0.013</td> <td>    0.815</td> <td> 0.415</td> <td>   -0.014</td> <td>    0.035</td>\n",
       "</tr>\n",
       "<tr>\n",
       "  <th>heartRate</th>       <td>   -0.0022</td> <td>    0.004</td> <td>   -0.521</td> <td> 0.602</td> <td>   -0.010</td> <td>    0.006</td>\n",
       "</tr>\n",
       "<tr>\n",
       "  <th>glucose</th>         <td>    0.0076</td> <td>    0.002</td> <td>    3.410</td> <td> 0.001</td> <td>    0.003</td> <td>    0.012</td>\n",
       "</tr>\n",
       "</table>"
      ],
      "text/plain": [
       "<class 'statsmodels.iolib.summary.Summary'>\n",
       "\"\"\"\n",
       "                           Logit Regression Results                           \n",
       "==============================================================================\n",
       "Dep. Variable:             TenYearCHD   No. Observations:                 3749\n",
       "Model:                          Logit   Df Residuals:                     3733\n",
       "Method:                           MLE   Df Model:                           15\n",
       "Date:                Sat, 08 Oct 2022   Pseudo R-squ.:                  0.1172\n",
       "Time:                        21:51:48   Log-Likelihood:                -1413.8\n",
       "converged:                       True   LL-Null:                       -1601.4\n",
       "Covariance Type:            nonrobust   LLR p-value:                 1.104e-70\n",
       "===================================================================================\n",
       "                      coef    std err          z      P>|z|      [0.025      0.975]\n",
       "-----------------------------------------------------------------------------------\n",
       "const              -8.5779      0.692    -12.398      0.000      -9.934      -7.222\n",
       "Unnamed: 0      -3.256e-05   3.91e-05     -0.833      0.405      -0.000    4.41e-05\n",
       "Sex_male            0.5776      0.108      5.371      0.000       0.367       0.788\n",
       "age                 0.0640      0.007      9.788      0.000       0.051       0.077\n",
       "currentSmoker       0.0726      0.155      0.469      0.639      -0.230       0.376\n",
       "cigsPerDay          0.0184      0.006      3.001      0.003       0.006       0.030\n",
       "BPMeds              0.1524      0.232      0.656      0.512      -0.303       0.608\n",
       "prevalentStroke     0.7340      0.490      1.499      0.134      -0.226       1.694\n",
       "prevalentHyp        0.2183      0.136      1.600      0.110      -0.049       0.486\n",
       "diabetes            0.0116      0.312      0.037      0.970      -0.600       0.624\n",
       "totChol             0.0022      0.001      2.068      0.039       0.000       0.004\n",
       "sysBP               0.0153      0.004      4.063      0.000       0.008       0.023\n",
       "diaBP              -0.0039      0.006     -0.618      0.536      -0.016       0.009\n",
       "BMI                 0.0102      0.013      0.815      0.415      -0.014       0.035\n",
       "heartRate          -0.0022      0.004     -0.521      0.602      -0.010       0.006\n",
       "glucose             0.0076      0.002      3.410      0.001       0.003       0.012\n",
       "===================================================================================\n",
       "\"\"\""
      ]
     },
     "execution_count": 29,
     "metadata": {},
     "output_type": "execute_result"
    }
   ],
   "source": [
    "st.chisqprob = lambda chisq, df: st.chi2.sf(chisq, df)\n",
    "cols=heart_df_constant.columns[:-1]\n",
    "model=sm.Logit(heart_df.TenYearCHD,heart_df_constant[cols])\n",
    "result=model.fit()\n",
    "result.summary()"
   ]
  },
  {
   "cell_type": "markdown",
   "id": "fd034063",
   "metadata": {},
   "source": [
    "Los resultados anteriores muestran algunos de los variables con un valor de P superior al alfa preferido (5%) y, por lo tanto, muestran una relación estadísticamente significativa baja con la probabilidad de enfermedad cardíaca. El enfoque de eliminación hacia atrás se usa aquí para eliminar los atributos con el valor P más alto uno a la vez, seguido de la ejecución de la regresión repetidamente hasta que todos los atributos tengan valores P inferiores a 0,05."
   ]
  },
  {
   "cell_type": "markdown",
   "id": "8eb91295",
   "metadata": {},
   "source": [
    "## Enfoque del P-value"
   ]
  },
  {
   "cell_type": "code",
   "execution_count": 30,
   "id": "a8a2a68d",
   "metadata": {},
   "outputs": [],
   "source": [
    "def back_feature_elem (data_frame,dep_var,col_list):\n",
    "    \"\"\" Tomamos del dataset la variable dependiente y una lista con nombres de la columnas, \n",
    "    ejecutando la regresión eliminando repetidaente la caracteristica con el valor mas alto. \n",
    "    El P-value por encima del alfa uno a la vez y devuelve un resumen con todos los P-values bajo el alfa.\"\"\"\n",
    "\n",
    "    while len(col_list)>0 :\n",
    "        model=sm.Logit(dep_var,data_frame[col_list])\n",
    "        result=model.fit(disp=0)\n",
    "        largest_pvalue=round(result.pvalues,3).nlargest(1)\n",
    "        if largest_pvalue[0]<(0.05):\n",
    "            return result\n",
    "            break\n",
    "        else:\n",
    "            col_list=col_list.drop(largest_pvalue.index)\n",
    "\n",
    "result=back_feature_elem(heart_df_constant,heart_df.TenYearCHD,cols)\n"
   ]
  },
  {
   "cell_type": "code",
   "execution_count": 31,
   "id": "7950a555",
   "metadata": {},
   "outputs": [
    {
     "data": {
      "text/html": [
       "<table class=\"simpletable\">\n",
       "<caption>Logit Regression Results</caption>\n",
       "<tr>\n",
       "  <th>Dep. Variable:</th>      <td>TenYearCHD</td>    <th>  No. Observations:  </th>  <td>  3749</td>  \n",
       "</tr>\n",
       "<tr>\n",
       "  <th>Model:</th>                 <td>Logit</td>      <th>  Df Residuals:      </th>  <td>  3742</td>  \n",
       "</tr>\n",
       "<tr>\n",
       "  <th>Method:</th>                 <td>MLE</td>       <th>  Df Model:          </th>  <td>     6</td>  \n",
       "</tr>\n",
       "<tr>\n",
       "  <th>Date:</th>            <td>Sat, 08 Oct 2022</td> <th>  Pseudo R-squ.:     </th>  <td>0.1148</td>  \n",
       "</tr>\n",
       "<tr>\n",
       "  <th>Time:</th>                <td>21:51:49</td>     <th>  Log-Likelihood:    </th> <td> -1417.6</td> \n",
       "</tr>\n",
       "<tr>\n",
       "  <th>converged:</th>             <td>True</td>       <th>  LL-Null:           </th> <td> -1601.4</td> \n",
       "</tr>\n",
       "<tr>\n",
       "  <th>Covariance Type:</th>     <td>nonrobust</td>    <th>  LLR p-value:       </th> <td>2.548e-76</td>\n",
       "</tr>\n",
       "</table>\n",
       "<table class=\"simpletable\">\n",
       "<tr>\n",
       "       <td></td>         <th>coef</th>     <th>std err</th>      <th>z</th>      <th>P>|z|</th>  <th>[0.025</th>    <th>0.975]</th>  \n",
       "</tr>\n",
       "<tr>\n",
       "  <th>const</th>      <td>   -9.1211</td> <td>    0.468</td> <td>  -19.491</td> <td> 0.000</td> <td>  -10.038</td> <td>   -8.204</td>\n",
       "</tr>\n",
       "<tr>\n",
       "  <th>Sex_male</th>   <td>    0.5813</td> <td>    0.105</td> <td>    5.521</td> <td> 0.000</td> <td>    0.375</td> <td>    0.788</td>\n",
       "</tr>\n",
       "<tr>\n",
       "  <th>age</th>        <td>    0.0654</td> <td>    0.006</td> <td>   10.330</td> <td> 0.000</td> <td>    0.053</td> <td>    0.078</td>\n",
       "</tr>\n",
       "<tr>\n",
       "  <th>cigsPerDay</th> <td>    0.0197</td> <td>    0.004</td> <td>    4.803</td> <td> 0.000</td> <td>    0.012</td> <td>    0.028</td>\n",
       "</tr>\n",
       "<tr>\n",
       "  <th>totChol</th>    <td>    0.0023</td> <td>    0.001</td> <td>    2.099</td> <td> 0.036</td> <td>    0.000</td> <td>    0.004</td>\n",
       "</tr>\n",
       "<tr>\n",
       "  <th>sysBP</th>      <td>    0.0174</td> <td>    0.002</td> <td>    8.166</td> <td> 0.000</td> <td>    0.013</td> <td>    0.022</td>\n",
       "</tr>\n",
       "<tr>\n",
       "  <th>glucose</th>    <td>    0.0076</td> <td>    0.002</td> <td>    4.573</td> <td> 0.000</td> <td>    0.004</td> <td>    0.011</td>\n",
       "</tr>\n",
       "</table>"
      ],
      "text/plain": [
       "<class 'statsmodels.iolib.summary.Summary'>\n",
       "\"\"\"\n",
       "                           Logit Regression Results                           \n",
       "==============================================================================\n",
       "Dep. Variable:             TenYearCHD   No. Observations:                 3749\n",
       "Model:                          Logit   Df Residuals:                     3742\n",
       "Method:                           MLE   Df Model:                            6\n",
       "Date:                Sat, 08 Oct 2022   Pseudo R-squ.:                  0.1148\n",
       "Time:                        21:51:49   Log-Likelihood:                -1417.6\n",
       "converged:                       True   LL-Null:                       -1601.4\n",
       "Covariance Type:            nonrobust   LLR p-value:                 2.548e-76\n",
       "==============================================================================\n",
       "                 coef    std err          z      P>|z|      [0.025      0.975]\n",
       "------------------------------------------------------------------------------\n",
       "const         -9.1211      0.468    -19.491      0.000     -10.038      -8.204\n",
       "Sex_male       0.5813      0.105      5.521      0.000       0.375       0.788\n",
       "age            0.0654      0.006     10.330      0.000       0.053       0.078\n",
       "cigsPerDay     0.0197      0.004      4.803      0.000       0.012       0.028\n",
       "totChol        0.0023      0.001      2.099      0.036       0.000       0.004\n",
       "sysBP          0.0174      0.002      8.166      0.000       0.013       0.022\n",
       "glucose        0.0076      0.002      4.573      0.000       0.004       0.011\n",
       "==============================================================================\n",
       "\"\"\""
      ]
     },
     "execution_count": 31,
     "metadata": {},
     "output_type": "execute_result"
    }
   ],
   "source": [
    "result.summary()"
   ]
  },
  {
   "cell_type": "markdown",
   "id": "607a98a7",
   "metadata": {},
   "source": [
    "## Interpretación de los resultados"
   ]
  },
  {
   "cell_type": "code",
   "execution_count": 32,
   "id": "5a6f9c26",
   "metadata": {},
   "outputs": [
    {
     "name": "stdout",
     "output_type": "stream",
     "text": [
      "            CI 95%(2.5%)  CI 95%(97.5%)  Odds Ratio  pvalue\n",
      "const           0.000044       0.000274    0.000109   0.000\n",
      "Sex_male        1.454877       2.198166    1.788313   0.000\n",
      "age             1.054409       1.080897    1.067571   0.000\n",
      "cigsPerDay      1.011730       1.028128    1.019896   0.000\n",
      "totChol         1.000150       1.004386    1.002266   0.036\n",
      "sysBP           1.013299       1.021791    1.017536   0.000\n",
      "glucose         1.004343       1.010895    1.007614   0.000\n"
     ]
    }
   ],
   "source": [
    "params = np.exp(result.params)\n",
    "conf = np.exp(result.conf_int())\n",
    "conf['OR'] = params\n",
    "pvalue=round(result.pvalues,3)\n",
    "conf['pvalue']=pvalue\n",
    "conf.columns = ['CI 95%(2.5%)', 'CI 95%(97.5%)', 'Odds Ratio','pvalue']\n",
    "print ((conf))"
   ]
  },
  {
   "cell_type": "markdown",
   "id": "059ec36f",
   "metadata": {},
   "source": [
    "- El modelo ajustado muestra que, manteniendo todas las demás características constantes, la probabilidad de que se les iagnostique una enfermedad cardíaca para los hombres (sexo_masculino = 1) sobre la de las mujeres (sexo_masculino = 0) es exp(0,5813) = 1,788313. En términos de cambio porcentual, podemos decir que las probabilidades para los hombres son un 78,8 % más altas que las probabilidades para las mujeres.\n",
    "\n",
    "\n",
    "- El coeficiente para la edad dice que, manteniendo todas las demás constantes, veremos un aumento del 7 % en las probabilidades de ser diagnosticado con CDH para un aumento de un año en la edad, ya que exp(0,0654) = 1,067571\n",
    "\n",
    "\n",
    "- Del mismo modo, con cada cigarrillo adicional que uno fuma, hay un aumento del 2% en las probabilidades de CDH.\n",
    "\n",
    "\n",
    "- Para el nivel de colesterol total y el nivel de glucosa no hay cambios significativos.\n",
    "\n",
    "\n",
    "- Hay un aumento del 1,7 % en las probabilidades por cada unidad de aumento en la presión arterial sistólica."
   ]
  },
  {
   "cell_type": "markdown",
   "id": "96c6e013",
   "metadata": {},
   "source": [
    "## Dividir los datos para entrenar y probar el modelo."
   ]
  },
  {
   "cell_type": "code",
   "execution_count": 34,
   "id": "d31177d1",
   "metadata": {},
   "outputs": [],
   "source": [
    "import sklearn\n",
    "new_features=heart_df[['age','Sex_male','cigsPerDay','totChol','sysBP','glucose','TenYearCHD']]\n",
    "x=new_features.iloc[:,:-1]\n",
    "y=new_features.iloc[:,-1]\n",
    "from sklearn.model_selection import train_test_split\n",
    "x_train,x_test,y_train,y_test=train_test_split(x,y,test_size=.20,random_state=5)"
   ]
  },
  {
   "cell_type": "code",
   "execution_count": 35,
   "id": "90c5e637",
   "metadata": {},
   "outputs": [],
   "source": [
    "from sklearn.linear_model import LogisticRegression\n",
    "logreg=LogisticRegression()\n",
    "logreg.fit(x_train,y_train)\n",
    "y_pred=logreg.predict(x_test)"
   ]
  },
  {
   "cell_type": "markdown",
   "id": "84785fe7",
   "metadata": {},
   "source": [
    "### Evaluación del modelo"
   ]
  },
  {
   "cell_type": "code",
   "execution_count": 36,
   "id": "c3b518d0",
   "metadata": {},
   "outputs": [
    {
     "data": {
      "text/plain": [
       "0.8706666666666667"
      ]
     },
     "execution_count": 36,
     "metadata": {},
     "output_type": "execute_result"
    }
   ],
   "source": [
    "sklearn.metrics.accuracy_score(y_test,y_pred)"
   ]
  },
  {
   "cell_type": "markdown",
   "id": "9ac6bce3",
   "metadata": {},
   "source": [
    "La precisión del modelo es 0.87"
   ]
  },
  {
   "cell_type": "markdown",
   "id": "c07ef281",
   "metadata": {},
   "source": [
    "#### Matriz de confusión "
   ]
  },
  {
   "cell_type": "code",
   "execution_count": 51,
   "id": "84dc7c72",
   "metadata": {},
   "outputs": [
    {
     "data": {
      "text/plain": [
       "<AxesSubplot:>"
      ]
     },
     "execution_count": 51,
     "metadata": {},
     "output_type": "execute_result"
    },
    {
     "data": {
      "image/png": "[encoded data removed]",
      "text/plain": [
       "<Figure size 576x360 with 2 Axes>"
      ]
     },
     "metadata": {
      "needs_background": "light"
     },
     "output_type": "display_data"
    }
   ],
   "source": [
    "from sklearn.metrics import confusion_matrix\n",
    "cm=confusion_matrix(y_test,y_pred)\n",
    "conf_matrix=pd.DataFrame(data=cm,columns=['Predicted:0','Predicted:1'],index=['Actual:0','Actual:1'])\n",
    "plt.figure(figsize = (8,5))\n",
    "sn.heatmap(conf_matrix, annot=True,fmt='d',cmap=\"YlGnBu\")"
   ]
  },
  {
   "cell_type": "markdown",
   "id": "1e74e219",
   "metadata": {},
   "source": [
    "La matriz de confusión muestra 645+8 = 653 predicciones correctas y 95+2 = 97 incorrectas \n",
    "\n",
    "Verdaderos positivos: 8\n",
    "\n",
    "Verdaderos negativos: 645\n",
    "\n",
    "Falsos positivos: 2 (error tipo I)\n",
    "\n",
    "Falsos negativos: 95 (error tipo II)"
   ]
  },
  {
   "cell_type": "code",
   "execution_count": null,
   "id": "dbb89294",
   "metadata": {},
   "outputs": [],
   "source": []
  },
  {
   "cell_type": "code",
   "execution_count": null,
   "id": "4aa7018d",
   "metadata": {},
   "outputs": [],
   "source": []
  },
  {
   "cell_type": "markdown",
   "id": "24646033",
   "metadata": {},
   "source": [
    "### Probabilidades con pronóstico de 0 (enfermedad coronaria: no) y 1 (enfermedad coronaria: sí) para los datos de prueba con un umbral de clasificación predeterminado de 0,5 "
   ]
  },
  {
   "cell_type": "code",
   "execution_count": 57,
   "id": "0e2df21f",
   "metadata": {},
   "outputs": [
    {
     "data": {
      "text/html": [
       "<div>\n",
       "<style scoped>\n",
       "    .dataframe tbody tr th:only-of-type {\n",
       "        vertical-align: middle;\n",
       "    }\n",
       "\n",
       "    .dataframe tbody tr th {\n",
       "        vertical-align: top;\n",
       "    }\n",
       "\n",
       "    .dataframe thead th {\n",
       "        text-align: right;\n",
       "    }\n",
       "</style>\n",
       "<table border=\"1\" class=\"dataframe\">\n",
       "  <thead>\n",
       "    <tr style=\"text-align: right;\">\n",
       "      <th></th>\n",
       "      <th>Probabilidad de no tener enfermedad al corazón (0)</th>\n",
       "      <th>Probabilidad de tener una enfermedad al corazón (1)</th>\n",
       "    </tr>\n",
       "  </thead>\n",
       "  <tbody>\n",
       "    <tr>\n",
       "      <th>0</th>\n",
       "      <td>0.776047</td>\n",
       "      <td>0.223953</td>\n",
       "    </tr>\n",
       "    <tr>\n",
       "      <th>1</th>\n",
       "      <td>0.545773</td>\n",
       "      <td>0.454227</td>\n",
       "    </tr>\n",
       "    <tr>\n",
       "      <th>2</th>\n",
       "      <td>0.831918</td>\n",
       "      <td>0.168082</td>\n",
       "    </tr>\n",
       "    <tr>\n",
       "      <th>3</th>\n",
       "      <td>0.887938</td>\n",
       "      <td>0.112062</td>\n",
       "    </tr>\n",
       "    <tr>\n",
       "      <th>4</th>\n",
       "      <td>0.920579</td>\n",
       "      <td>0.079421</td>\n",
       "    </tr>\n",
       "  </tbody>\n",
       "</table>\n",
       "</div>"
      ],
      "text/plain": [
       "   Probabilidad de no tener enfermedad al corazón (0)  \\\n",
       "0                                           0.776047    \n",
       "1                                           0.545773    \n",
       "2                                           0.831918    \n",
       "3                                           0.887938    \n",
       "4                                           0.920579    \n",
       "\n",
       "   Probabilidad de tener una enfermedad al corazón (1)  \n",
       "0                                           0.223953    \n",
       "1                                           0.454227    \n",
       "2                                           0.168082    \n",
       "3                                           0.112062    \n",
       "4                                           0.079421    "
      ]
     },
     "execution_count": 57,
     "metadata": {},
     "output_type": "execute_result"
    }
   ],
   "source": [
    "y_pred_prob=logreg.predict_proba(x_test)[:,:]\n",
    "y_pred_prob_df=pd.DataFrame(data=y_pred_prob, columns=['Probabilidad de no tener enfermedad al corazón (0)','Probabilidad de tener una enfermedad al corazón (1)'])\n",
    "y_pred_prob_df.head()"
   ]
  },
  {
   "cell_type": "markdown",
   "id": "460e4a47",
   "metadata": {},
   "source": [
    "### Curva ROC"
   ]
  },
  {
   "cell_type": "markdown",
   "id": "093e8621",
   "metadata": {},
   "source": [
    "Con la curva ROC determinaremos la exactitud de nuestro test, y poder determinar el área bajo la curva."
   ]
  },
  {
   "cell_type": "code",
   "execution_count": 58,
   "id": "03d80a59",
   "metadata": {},
   "outputs": [
    {
     "data": {
      "image/png": "[encoded data removed]",
      "text/plain": [
       "<Figure size 432x288 with 1 Axes>"
      ]
     },
     "metadata": {
      "needs_background": "light"
     },
     "output_type": "display_data"
    }
   ],
   "source": [
    "from sklearn.metrics import roc_curve\n",
    "fpr, tpr, thresholds = roc_curve(y_test, y_pred_prob_yes[:,1])\n",
    "plt.plot(fpr,tpr)\n",
    "plt.xlim([0.0, 1.0])\n",
    "plt.ylim([0.0, 1.0])\n",
    "plt.title('Curva ROC para el clasificador de enfermedades cardíacas')\n",
    "plt.xlabel('Tasa de falsos positivos (1-Especificidad)')\n",
    "plt.ylabel('Tasa de verdaderos positivos (Sensibilidad)')\n",
    "plt.grid(True)\n"
   ]
  },
  {
   "cell_type": "markdown",
   "id": "1e4e8bc2",
   "metadata": {},
   "source": [
    "Una forma común de visualizar las ventajas y desventajas de diferentes umbrales es usar una curva ROC, un gráfico de la tasa de verdaderos positivos (n.° de verdaderos positivos/n.° total de positivos) frente a la tasa de falsos positivos (n.° de falsos positivos/n.° total de negativos) para todas las opciones posibles de umbrales. Un modelo con una buena precisión de clasificación debería tener significativamente más positivos verdaderos que falsos positivos en todos los umbrales.\n",
    "\n",
    "La posición óptima para la curva roc es hacia la esquina superior izquierda donde la especificidad y la sensibilidad están en niveles óptimos."
   ]
  },
  {
   "cell_type": "markdown",
   "id": "104c6633",
   "metadata": {},
   "source": [
    "#### Area bajo la Curva ROC"
   ]
  },
  {
   "cell_type": "markdown",
   "id": "8453fb75",
   "metadata": {},
   "source": [
    "El área bajo la curva ROC cuantifica la precisión de la clasificación del modelo; cuanto mayor sea el área, mayor será la disparidad entre los positivos verdaderos y falsos, y más fuerte será el modelo en la clasificación de los miembros del conjunto de datos de entrenamiento. Un área de 0,5 corresponde a un modelo que no funciona mejor que la clasificación aleatoria y un buen clasificador se mantiene lo más alejado posible de eso. Un área de 1 es ideal. Cuanto más cerca esté el AUC de 1, mejor."
   ]
  },
  {
   "cell_type": "code",
   "execution_count": 55,
   "id": "83b8e93c",
   "metadata": {},
   "outputs": [
    {
     "data": {
      "text/plain": [
       "0.7733077234735375"
      ]
     },
     "execution_count": 55,
     "metadata": {},
     "output_type": "execute_result"
    }
   ],
   "source": [
    "sklearn.metrics.roc_auc_score(y_test,y_pred_prob_yes[:,1])"
   ]
  },
  {
   "cell_type": "markdown",
   "id": "2ead50fd",
   "metadata": {},
   "source": [
    "## Conclusiones "
   ]
  },
  {
   "cell_type": "markdown",
   "id": "1db847e9",
   "metadata": {},
   "source": [
    "- Todos los atributos seleccionados después del proceso de eliminación muestran valores de P inferiores al 5% y, por lo tanto, sugieren un papel importante en la predicción de enfermedades del corazón.\n",
    "\n",
    "\n",
    "- Los hombres parecen ser más susceptibles a las enfermedades cardíacas que las mujeres. El aumento de la edad, la cantidad de cigarrillos fumados por día y la presión arterial sistólica también muestran mayores probabilidades de tener enfermedades cardíacas.\n",
    "\n",
    "\n",
    "- El colesterol total no muestra cambios significativos en las probabilidades de cardiopatía coronaria. Esto podría deberse a la presencia de 'colesterol bueno (HDL) en la lectura de colesterol total. La glucosa también provoca un cambio muy insignificante en las probabilidades (0,2 %).\n",
    "\n",
    "\n",
    "- El modelo predijo con una precisión de 0,87. El modelo es más específico que sensible.\n",
    "\n",
    "\n",
    "- El Área bajo la curva ROC es 77,3, lo cual es algo satisfactorio. \n",
    "\n",
    "\n",
    "-  El modelo general podría mejorarse con más datos. \n"
   ]
  },
  {
   "cell_type": "code",
   "execution_count": null,
   "id": "4f78a5e0",
   "metadata": {},
   "outputs": [],
   "source": []
  }
 ],
 "metadata": {
  "kernelspec": {
   "display_name": "Python 3 (ipykernel)",
   "language": "python",
   "name": "python3"
  },
  "language_info": {
   "codemirror_mode": {
    "name": "ipython",
    "version": 3
   },
   "file_extension": ".py",
   "mimetype": "text/x-python",
   "name": "python",
   "nbconvert_exporter": "python",
   "pygments_lexer": "ipython3",
   "version": "3.9.12"
  }
 },
 "nbformat": 4,
 "nbformat_minor": 5
}
